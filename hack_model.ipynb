{
  "nbformat": 4,
  "nbformat_minor": 0,
  "metadata": {
    "colab": {
      "name": "hack_model.ipynb",
      "provenance": [],
      "collapsed_sections": []
    },
    "kernelspec": {
      "name": "python3",
      "display_name": "Python 3"
    }
  },
  "cells": [
    {
      "cell_type": "markdown",
      "metadata": {
        "id": "6wLTKrXRJKjC",
        "colab_type": "text"
      },
      "source": [
        "В данном ноутбуке представлен код для препроцессинга данных из csv файла, обучения XGBoost-модели и предсказания зарплаты по вакансиям из тестового датасета.\n",
        "\n",
        "Автор ноутбука: Кусакин Илья"
      ]
    },
    {
      "cell_type": "code",
      "metadata": {
        "id": "LA4lsFDkJJ1e",
        "colab_type": "code",
        "colab": {}
      },
      "source": [
        "import pandas as pd\n",
        "import numpy as np\n",
        "#reading csv file for train\n",
        "dataframe = pd.read_csv(\"/content/drive/My Drive/labour_hackathon/vacs_train.csv\" ,comment='#', sep=\";\")\n",
        "#fixing random\n",
        "np.random.seed(42)"
      ],
      "execution_count": 22,
      "outputs": []
    },
    {
      "cell_type": "code",
      "metadata": {
        "id": "3xZOuCFLLCAo",
        "colab_type": "code",
        "colab": {}
      },
      "source": [
        "!pip install pymorphy2\n",
        "#lemmatizer\n",
        "import pymorphy2\n",
        "pymorph = pymorphy2.MorphAnalyzer()\n",
        "\n",
        "def my_lemming(word):\n",
        "  return pymorph.parse(word)[0].normal_form\n",
        "#stemmer\n",
        "from nltk.stem.snowball import SnowballStemmer \n",
        "stemmer = SnowballStemmer(\"russian\") \n",
        "\n",
        "import random\n",
        "import nltk\n",
        "import re\n",
        "import gensim\n",
        "\n",
        "wv_embeddings = gensim.models.KeyedVectors.load_word2vec_format(fname='/content/drive/My Drive/labour_hackathon/model.bin', binary=True)\n",
        "\n",
        "from nltk.tokenize import WordPunctTokenizer\n",
        "nltk.download('stopwords')\n",
        "nltk.download('wordnet')\n",
        "\n",
        "from nltk.corpus import stopwords\n",
        "\n",
        "tokenizer = WordPunctTokenizer()\n",
        "stopWords = set(stopwords.words('russian'))\n",
        "stopWords.add(\"'\")\n",
        "stopWords.add('\\\\')\n",
        "from nltk.stem.snowball import SnowballStemmer\n",
        "\n",
        "#убираем части речи через _ в русском словаре\n",
        "my_embeddings = dict()\n",
        "for i in wv_embeddings.vocab:\n",
        "  without_ = re.sub('_\\w+', '', i)\n",
        "  my_embeddings[without_]=wv_embeddings[i]\n",
        "\n"
      ],
      "execution_count": null,
      "outputs": []
    },
    {
      "cell_type": "code",
      "metadata": {
        "id": "84r4ytWbHR1a",
        "colab_type": "code",
        "colab": {}
      },
      "source": [
        "def df_preproc(dataframe):\n",
        "\"\"\"\n",
        "Function for preprocessing columns, deleting nan-values \n",
        "and extracting new one-hot-encoded features of columns \"shedule\" and \"employement\"\n",
        "\n",
        "returns: preprocessed dataframe\n",
        "\"\"\"\n",
        "    \n",
        "    dataframe['name.lemm'] = dataframe['name.lemm'].fillna('unknown') \n",
        "    dataframe['company'] = dataframe['company'].fillna('unknown')\n",
        "    dataframe['salary_from'] = np.array(dataframe['salary_from'].fillna('30000'), dtype=int)\n",
        "    dataframe['employment.name'] = dataframe['employment.name'].fillna('Полная занятость')\n",
        "    dataframe['schedule.name'] = dataframe['schedule.name'].fillna('Полный день')\n",
        "    dataframe['experience.name'] = dataframe['experience.name'].fillna('От 1 года до 3 лет')\n",
        "    dataframe['description.lemm'] = dataframe['description.lemm'].fillna('неизвестно')\n",
        "    dataframe['specializations'] = dataframe['specializations'].fillna('0')\n",
        "\n",
        "    exp = []\n",
        "    for i in dataframe['experience.name']:\n",
        "       if i=='Более 6 лет':\n",
        "         exp.append(6)\n",
        "       if i=='Нет опыта':\n",
        "         exp.append(0)\n",
        "       if i=='От 1 года до 3 лет':\n",
        "         exp.append(2)\n",
        "       if i=='От 3 до 6 лет':\n",
        "         exp.append(4.5)\n",
        "    dataframe['experience.name'] = exp\n",
        "  \n",
        "    dataframe['key_skills'] = dataframe['key_skills'].fillna('unknown')\n",
        "\n",
        "    kek=np.array(dataframe[\"employment.name\"], dtype=str)\n",
        "    for i in np.unique(kek):\n",
        "      dataframe[i] = [0]*len(dataframe['salary_from'])\n",
        "    for i in range(len(dataframe['city'])):\n",
        "      dataframe[dataframe['employment.name'][i]][i]=1\n",
        "      \n",
        "    kek=np.array(dataframe[\"schedule.name\"], dtype=str)\n",
        "    for i in np.unique(kek):\n",
        "      dataframe[i] = [0]*len(dataframe['salary_from'])\n",
        "    for i in range(len(dataframe['city'])):\n",
        "      dataframe[dataframe['schedule.name'][i]][i]=1\n",
        "    \n",
        "    \n",
        "    \n",
        "    \n",
        "\n",
        "    return dataframe"
      ],
      "execution_count": 3,
      "outputs": []
    },
    {
      "cell_type": "code",
      "metadata": {
        "id": "mrWMb2zRIjue",
        "colab_type": "code",
        "colab": {}
      },
      "source": [
        "def skills_important(dataframe):\n",
        "  \"\"\"\n",
        "    Function that checks 15 most frequent skills from vacancy.\n",
        "    dataframe :  dataframe with vacancy\n",
        "\n",
        "    Returns:\n",
        "    Dataframe with 1 in columns of skills if it exists in vacancy.\n",
        "    Zeroes if not exist.\n",
        "  \"\"\"\n",
        "\n",
        "  skills_list =['команда',\n",
        "    'коммуникация',\n",
        "    'продажа',\n",
        "    'программа',\n",
        "    'способность',\n",
        "    'объем',\n",
        "    'информация',\n",
        "    'автоматизация',\n",
        "    'ведение',\n",
        "    'переписка',\n",
        "    'умение',\n",
        "    'интернет',\n",
        "    'планирование',\n",
        "    'контроль',\n",
        "    'обеспечение']\n",
        "\n",
        "  for i in skills_list:\n",
        "    dataframe[i] = np.array([0]*len(dataframe['description.lemm']))\n",
        "\n",
        "  for i in range(len(dataframe['key_skills'])):\n",
        "    text = dataframe['key_skills'][i]\n",
        "    text = re.sub('[\\d+\\xad]', '', text)\n",
        "    words = [my_lemming(word) for word in tokenizer.tokenize(re.sub('[-\\’,·”–●•№~✅“=#—«|\"‚».?!:;()*^&%+/]', ' ' , text.lower())) if word not in stopWords]\n",
        "    try:\n",
        "      for word in words:\n",
        "        dataframe[word][i] = 1\n",
        "    except KeyError:\n",
        "      pass\n",
        "  return dataframe"
      ],
      "execution_count": 4,
      "outputs": []
    },
    {
      "cell_type": "code",
      "metadata": {
        "id": "0w_fik7u-qDG",
        "colab_type": "code",
        "colab": {}
      },
      "source": [
        "def text_to_onevec(text, embeddings=my_embeddings):\n",
        "    \"\"\"\n",
        "    Function for text vectorizing\n",
        "    \n",
        "        text: some text for vectorizing\n",
        "        embeddings: embeggings from FastText model\n",
        "        \n",
        "        returns: averaged representation of text\n",
        "    \"\"\"\n",
        "\n",
        "    text = re.sub('[\\t\\n]', ' ', text.lower())\n",
        "    text = re.sub('[\\d+\\xad]', '', text)\n",
        "    words = [word for word in tokenizer.tokenize(re.sub('[-\\’,·”–●•№~✅“=#—«\"‚»|.?!:;()*^&%+/]', ' ' , text)) if word not in stopWords]\n",
        "    #print(words)\n",
        "    n_known = 0\n",
        "    result = 0\n",
        "    for word in words:\n",
        "      flag_known=0\n",
        "      if my_lemming(word) in embeddings:\n",
        "             result+=embeddings[my_lemming(word)]\n",
        "             flag_known += 1\n",
        "      if flag_known==0 and stemmer.stem(word) in embeddings:\n",
        "           result+=embeddings[stemmer.stem(word)]\n",
        "           flag_known += 1\n",
        "      if flag_known>0:\n",
        "         n_known+=1\n",
        "                    \n",
        "    if n_known == 0:\n",
        "      return np.array([0]*300)\n",
        "    else:\n",
        "      return result/n_known"
      ],
      "execution_count": 5,
      "outputs": []
    },
    {
      "cell_type": "code",
      "metadata": {
        "id": "X_sWd3s63uwq",
        "colab_type": "code",
        "colab": {}
      },
      "source": [
        "def descrs(dataframe):\n",
        "    \"\"\"\n",
        "    Function for description vectorizing:\n",
        "        \n",
        "        dataframe: dataframe with column of descriptions\n",
        "        \n",
        "        returns: dataframe with features \n",
        "        of vectorized descriontion representation\n",
        "    \"\"\"\n",
        "    \n",
        "    dataframe['description.lemm'] = dataframe['description.lemm'].fillna('unknown') \n",
        "    descrs_vec = []\n",
        "    for i in dataframe['description.lemm']:\n",
        "        descrs_vec.append(text_to_onevec(i))\n",
        "    descrs_df = pd.DataFrame(descrs_vec)\n",
        "    name_descrs=[]\n",
        "    for i in range(1,301):\n",
        "      name_descrs.append('descrs_vec_'+str(i))\n",
        "    descrs_df.columns = name_descrs\n",
        "\n",
        "    return pd.concat([dataframe, descrs_df], axis=1)"
      ],
      "execution_count": 6,
      "outputs": []
    },
    {
      "cell_type": "code",
      "metadata": {
        "id": "fzRjlDC-_y3K",
        "colab_type": "code",
        "colab": {}
      },
      "source": [
        "def companys(dataframe):\n",
        "  \"\"\"\n",
        "    Function for company title vectorizing\n",
        "    \n",
        "        dataframe: dataframe with column of companys titles\n",
        "        \n",
        "        returns: dataframe with vectorized representation of company title\n",
        "  \"\"\"\n",
        "\n",
        "  dataframe['company'] = dataframe['company'].fillna('unknown')\n",
        "  company_vec = []\n",
        "  for i in dataframe['company']:\n",
        "      company_vec.append(text_to_onevec(i))\n",
        "  company_df = pd.DataFrame(company_vec)\n",
        "  name_company=[]\n",
        "  for i in range(1,301):\n",
        "    name_company.append('company_vec_'+str(i))\n",
        "  company_df.columns = name_company\n",
        "  \n",
        "  return pd.concat([dataframe, company_df], axis=1)"
      ],
      "execution_count": 7,
      "outputs": []
    },
    {
      "cell_type": "code",
      "metadata": {
        "id": "iwvSxAhahmgH",
        "colab_type": "code",
        "colab": {}
      },
      "source": [
        "def titles(dataframe):\n",
        "  \"\"\"\n",
        "    Function for vacancy title vectorizing\n",
        "    \n",
        "    dataframe: dataframe with column of vacancy titles\n",
        "    \n",
        "    returns: dataframe with vectorized representation of vacancy titles\n",
        "  \"\"\"\n",
        "\n",
        "  dataframe['name.lemm'] = dataframe['name.lemm'].fillna('unknown')\n",
        "  title_vec = []\n",
        "  for i in dataframe['name.lemm']:\n",
        "      title_vec.append(text_to_onevec(i))\n",
        "  title_df = pd.DataFrame(title_vec)\n",
        "  name_title=[]\n",
        "  for i in range(1,301):\n",
        "    name_title.append('title_vec_'+str(i))\n",
        "  title_df.columns = name_title\n",
        "  \n",
        "  return pd.concat([dataframe, title_df], axis=1)"
      ],
      "execution_count": 8,
      "outputs": []
    },
    {
      "cell_type": "markdown",
      "metadata": {
        "id": "gegpi0sxMFpR",
        "colab_type": "text"
      },
      "source": [
        "Functions for data preprocessing and features creating are ready"
      ]
    },
    {
      "cell_type": "code",
      "metadata": {
        "id": "MkJrLu8jAHit",
        "colab_type": "code",
        "colab": {}
      },
      "source": [
        "#preprocessing pipeline\n",
        "dataframe= df_preproc(dataframe)\n",
        "dataframe = companys(dataframe)\n",
        "dataframe = titles(dataframe)\n",
        "dataframe = skills_important(dataframe)"
      ],
      "execution_count": null,
      "outputs": []
    },
    {
      "cell_type": "code",
      "metadata": {
        "id": "BXQc5hRcLmnU",
        "colab_type": "code",
        "colab": {}
      },
      "source": [
        "#deleting unused columns\n",
        "dataframe = dataframe.drop(['index', 'id', 'name.lemm', 'name', 'area.name', 'city', 'company.id', 'company', 'company_link', 'publication_date',\n",
        "                'employment', 'employment.name', 'schedule', 'schedule.name', 'experience', \n",
        "                'key_skills', 'specializations', 'specializations.names',\n",
        "                'description', 'description.lemm', 'salary_currency', 'type'], axis=1)"
      ],
      "execution_count": 10,
      "outputs": []
    },
    {
      "cell_type": "markdown",
      "metadata": {
        "id": "-RVkrau1MoCy",
        "colab_type": "text"
      },
      "source": [
        "Now we have clear dataset with new features created by one-hot-encoding and word vectorizing. Lets make some analysis about salaries. "
      ]
    },
    {
      "cell_type": "code",
      "metadata": {
        "id": "mJR7PJyRNNON",
        "colab_type": "code",
        "colab": {
          "base_uri": "https://localhost:8080/",
          "height": 602
        },
        "outputId": "c7517e72-6679-4ff4-b8c4-0569c2337219"
      },
      "source": [
        "import seaborn as sns\n",
        "%matplotlib inline\n",
        "import matplotlib.pyplot as plt\n",
        "\n",
        "snsplot = sns.kdeplot(targets, shade=True, )\n",
        "fig = snsplot.get_figure()\n",
        "fig.set_size_inches(15, 10)"
      ],
      "execution_count": 16,
      "outputs": [
        {
          "output_type": "display_data",
          "data": {
            "image/png": "[encoded data removed]",
            "text/plain": [
              "<Figure size 1080x720 with 1 Axes>"
            ]
          },
          "metadata": {
            "tags": [],
            "needs_background": "light"
          }
        }
      ]
    },
    {
      "cell_type": "code",
      "metadata": {
        "id": "1W0_PfDuNrZb",
        "colab_type": "code",
        "colab": {
          "base_uri": "https://localhost:8080/",
          "height": 746
        },
        "outputId": "b0f4460f-8a27-4aa5-fbc7-9d05eaca7be3"
      },
      "source": [
        "fig1, ax1 = plt.subplots(figsize=(8,10))\n",
        "ax1.set_title('Boxplot')\n",
        "ax1.boxplot(targets)"
      ],
      "execution_count": 20,
      "outputs": [
        {
          "output_type": "execute_result",
          "data": {
            "text/plain": [
              "{'boxes': [<matplotlib.lines.Line2D at 0x7f41c9d32eb8>],\n",
              " 'caps': [<matplotlib.lines.Line2D at 0x7f41c9d40908>,\n",
              "  <matplotlib.lines.Line2D at 0x7f41c9d40c88>],\n",
              " 'fliers': [<matplotlib.lines.Line2D at 0x7f41c9d4f3c8>],\n",
              " 'means': [],\n",
              " 'medians': [<matplotlib.lines.Line2D at 0x7f41c9d4f048>],\n",
              " 'whiskers': [<matplotlib.lines.Line2D at 0x7f41c9d40208>,\n",
              "  <matplotlib.lines.Line2D at 0x7f41c9d40588>]}"
            ]
          },
          "metadata": {
            "tags": []
          },
          "execution_count": 20
        },
        {
          "output_type": "display_data",
          "data": {
            "image/png": "[encoded data removed]",
            "text/plain": [
              "<Figure size 576x720 with 1 Axes>"
            ]
          },
          "metadata": {
            "tags": [],
            "needs_background": "light"
          }
        }
      ]
    },
    {
      "cell_type": "markdown",
      "metadata": {
        "id": "1vtw3ED2OEM2",
        "colab_type": "text"
      },
      "source": [
        "It is clearly seen, that the median salary is lower that 50k rubles, and third quartile is lower than 100k rubles. So we need to filter data before model training."
      ]
    },
    {
      "cell_type": "code",
      "metadata": {
        "id": "gXn9_We6iJAq",
        "colab_type": "code",
        "colab": {}
      },
      "source": [
        "#filtering targets by crating bool array ok_salary\n",
        "ok_salary = (dataframe['salary_from']<95000) & (dataframe['salary_from']>4000)\n",
        "targets = dataframe['salary_from']\n",
        "dataframe = dataframe.drop(['salary_from'], axis=1)\n",
        "\n",
        "#file with vectorized descriptions from train dataset\n",
        "descrs_df = pd.read_csv(\"/content/drive/My Drive/labour_hackathon/descrs_df1.csv\",sep=\";\")\n",
        "\n",
        "dataframe_np = np.array(dataframe)\n",
        "descrs_np = np.array(descrs_df)\n",
        "\n",
        "#np.array for training\n",
        "full = np.concatenate((dataframe_np, descrs_np), axis=1)"
      ],
      "execution_count": 11,
      "outputs": []
    },
    {
      "cell_type": "markdown",
      "metadata": {
        "id": "eZPNZXaBQ7Xc",
        "colab_type": "text"
      },
      "source": [
        "Xgb-regressor trainiung"
      ]
    },
    {
      "cell_type": "code",
      "metadata": {
        "id": "QUTDtcLH0eKi",
        "colab_type": "code",
        "colab": {}
      },
      "source": [
        "#xgb-regressor\n",
        "import xgboost as xgb\n",
        "model = xgb.XGBRegressor()\n",
        "#model fitting\n",
        "model.fit(full[ok_salary],targets[ok_salary])"
      ],
      "execution_count": null,
      "outputs": []
    },
    {
      "cell_type": "markdown",
      "metadata": {
        "id": "4PxIAdfsRNQA",
        "colab_type": "text"
      },
      "source": [
        "Saving trained model"
      ]
    },
    {
      "cell_type": "code",
      "metadata": {
        "id": "vAxsl_65v2Ao",
        "colab_type": "code",
        "colab": {}
      },
      "source": [
        "import pickle\n",
        "pickle.dump(model, open(\"/content/drive/My Drive/labour_hackathon/model_95sal_full.pickle.dat\", \"wb\"))"
      ],
      "execution_count": 47,
      "outputs": []
    },
    {
      "cell_type": "markdown",
      "metadata": {
        "id": "4yNz1xb-RkFh",
        "colab_type": "text"
      },
      "source": [
        "Now we can use trained model for salary predicting"
      ]
    },
    {
      "cell_type": "code",
      "metadata": {
        "id": "vfVK1lINQooQ",
        "colab_type": "code",
        "colab": {}
      },
      "source": [
        "import pandas as pd\n",
        "import numpy as np\n",
        "#test dataset\n",
        "dataframe_test = pd.read_csv(\"/content/drive/My Drive/labour_hackathon/vacs_test.csv\" ,comment='#', sep=\";\")\n",
        "np.random.seed(42)"
      ],
      "execution_count": 21,
      "outputs": []
    },
    {
      "cell_type": "code",
      "metadata": {
        "id": "9PGfFYORQ0GQ",
        "colab_type": "code",
        "colab": {}
      },
      "source": [
        "#preprocesing test data\n",
        "dataframe= df_preproc(dataframe_test)\n",
        "dataframe = companys(dataframe)\n",
        "dataframe = titles(dataframe)\n",
        "dataframe = skills_important(dataframe)\n",
        "\n",
        "dataframe = dataframe.drop(['index', 'id', 'name.lemm', 'name', 'area.name', 'city', 'company.id', 'company', 'company_link', 'publication_date',\n",
        "                'employment', 'employment.name', 'schedule', 'schedule.name', 'experience', \n",
        "                'key_skills', 'specializations', 'specializations.names',\n",
        "                'description', 'description.lemm', 'salary_currency', 'type'], axis=1)"
      ],
      "execution_count": null,
      "outputs": []
    },
    {
      "cell_type": "code",
      "metadata": {
        "id": "7BYWQpeGnsGO",
        "colab_type": "code",
        "colab": {}
      },
      "source": [
        "dataframe = dataframe.drop(['salary_from'], axis=1)\n",
        "descrs_df = pd.read_csv(\"/content/drive/My Drive/labour_hackathon/descrs_test.csv\",sep=\";\")\n",
        "\n",
        "dataframe_np = np.array(dataframe)\n",
        "descrs_np = np.array(descrs_df)\n",
        "\n",
        "full = np.concatenate((dataframe_np, descrs_np), axis=1)"
      ],
      "execution_count": null,
      "outputs": []
    },
    {
      "cell_type": "code",
      "metadata": {
        "id": "_KHLRdgbduDp",
        "colab_type": "code",
        "colab": {}
      },
      "source": [
        "model =pickle.load(open(\"/content/drive/My Drive/labour_hackathon/model_95sal_full.pickle.dat\", \"rb\"))\n",
        "\n",
        "salary_test = model.predict(full)"
      ],
      "execution_count": null,
      "outputs": []
    },
    {
      "cell_type": "markdown",
      "metadata": {
        "id": "hn05eqCyR-MN",
        "colab_type": "text"
      },
      "source": [
        "Adding predicted salaries to test dataset and saving it"
      ]
    },
    {
      "cell_type": "code",
      "metadata": {
        "id": "Btrqj6hxHR1M",
        "colab_type": "code",
        "colab": {}
      },
      "source": [
        "dataframe_test['salary_from'] = salary_test\n",
        "dataframe_test.to_csv(\"/content/drive/My Drive/labour_hackathon/result_df.csv\",sep=\";\", index=0)"
      ],
      "execution_count": 100,
      "outputs": []
    }
  ]
}